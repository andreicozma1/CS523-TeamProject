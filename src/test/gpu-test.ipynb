{
 "cells": [
  {
   "cell_type": "code",
   "execution_count": 1,
   "metadata": {
    "collapsed": true
   },
   "outputs": [
    {
     "name": "stdout",
     "output_type": "stream",
     "text": [
      "\n",
      ">>   AI-Benchmark-v.0.1.2   \n",
      ">>   Let the AI Games begin..\n",
      "\n",
      "*  TF Version: 2.7.0\n",
      "*  Platform: Linux-5.11.0-40-generic-x86_64-with-glibc2.29\n",
      "*  CPU: N/A\n",
      "*  CPU RAM: 31 GB\n",
      "*  GPU/0: NVIDIA GeForce RTX 3070\n",
      "*  GPU RAM: 4.2 GB\n",
      "*  CUDA Version: 11.5\n",
      "*  CUDA Build: V11.5.50\n",
      "\n",
      "The benchmark is running...\n",
      "The tests might take up to 20 minutes\n",
      "Please don't interrupt the script\n",
      "\n",
      "1/19. MobileNet-V2\n",
      "\n",
      "1.1 - inference | batch=50, size=224x224: 41.7 ± 4.3 ms\n"
     ]
    }
   ],
   "source": [
    "from ai_benchmark import AIBenchmark\n",
    "benchmark = AIBenchmark()\n",
    "results = benchmark.run()"
   ]
  }
 ],
 "metadata": {
  "kernelspec": {
   "display_name": "Python 3",
   "language": "python",
   "name": "python3"
  },
  "language_info": {
   "codemirror_mode": {
    "name": "ipython",
    "version": 3
   },
   "file_extension": ".py",
   "mimetype": "text/x-python",
   "name": "python",
   "nbconvert_exporter": "python",
   "pygments_lexer": "ipython3",
   "version": "3.8.10"
  }
 },
 "nbformat": 4,
 "nbformat_minor": 0
}
