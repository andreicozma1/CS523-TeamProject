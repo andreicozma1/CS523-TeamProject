{
 "cells": [
  {
   "cell_type": "code",
   "execution_count": 47,
   "metadata": {
    "collapsed": true
   },
   "outputs": [],
   "source": [
    "# import libraries\n",
    "from os import listdir\n",
    "from os.path import isfile, join\n",
    "import numpy as np\n",
    "import pandas as pd\n",
    "import matplotlib.pyplot as plt\n",
    "import tensorflow as tf\n",
    "import tensorflow.keras as keras\n",
    "from sklearn.preprocessing import OneHotEncoder, LabelEncoder\n"
   ]
  },
  {
   "cell_type": "code",
   "execution_count": 21,
   "outputs": [],
   "source": [
    "# get dataset files\n",
    "\n",
    "cars_listing_1_dir = '../datasets/car-listing-1'\n",
    "cars_listing_2_dir = '../datasets/car-listing-2'\n",
    "\n",
    "def get_csvs_in_dir(dir_path):\n",
    "    return [join(dir_path, f) for f in listdir(dir_path) if isfile(join(dir_path, f)) and f.endswith('.csv')]\n",
    "\n",
    "\n",
    "cars_1_files = get_csvs_in_dir(cars_listing_1_dir)\n",
    "cars_2_files = get_csvs_in_dir(cars_listing_2_dir)\n"
   ],
   "metadata": {
    "collapsed": false,
    "pycharm": {
     "name": "#%%\n"
    }
   }
  },
  {
   "cell_type": "code",
   "execution_count": 22,
   "outputs": [
    {
     "name": "stdout",
     "output_type": "stream",
     "text": [
      "       model  year  price transmission  mileage fuelType  tax   mpg  \\\n",
      "0   5 Series  2014  11200    Automatic    67068   Diesel  125  57.6   \n",
      "1   6 Series  2018  27000    Automatic    14827   Petrol  145  42.8   \n",
      "2   5 Series  2016  16000    Automatic    62794   Diesel  160  51.4   \n",
      "3   1 Series  2017  12750    Automatic    26676   Diesel  145  72.4   \n",
      "4   7 Series  2014  14500    Automatic    39554   Diesel  160  50.4   \n",
      "\n",
      "   engineSize  \n",
      "0         2.0  \n",
      "1         2.0  \n",
      "2         3.0  \n",
      "3         1.5  \n",
      "4         3.0  \n",
      "     model  year  price transmission  mileage fuelType  tax   mpg  engineSize\n",
      "0      I20  2017   7999       Manual    17307   Petrol  145  58.9         1.2\n",
      "1   Tucson  2016  14499    Automatic    25233   Diesel  235  43.5         2.0\n",
      "2   Tucson  2016  11399       Manual    37877   Diesel   30  61.7         1.7\n",
      "3      I10  2016   6499       Manual    23789   Petrol   20  60.1         1.0\n",
      "4     IX35  2015  10199       Manual    33177   Diesel  160  51.4         2.0\n",
      "  model  year  price transmission  mileage fuelType  tax   mpg  engineSize\n",
      "0    A1  2017  12500       Manual    15735   Petrol  150  55.4         1.4\n",
      "1    A6  2016  16500    Automatic    36203   Diesel   20  64.2         2.0\n",
      "2    A1  2016  11000       Manual    29946   Petrol   30  55.4         1.4\n",
      "3    A4  2017  16800    Automatic    25952   Diesel  145  67.3         2.0\n",
      "4    A3  2019  17300       Manual     1998   Petrol  145  49.6         1.0\n",
      "   model  year  price transmission  mileage fuelType  tax   mpg  engineSize\n",
      "0   GT86  2016  16000       Manual    24089   Petrol  265  36.2         2.0\n",
      "1   GT86  2017  15995       Manual    18615   Petrol  145  36.2         2.0\n",
      "2   GT86  2015  13998       Manual    27469   Petrol  265  36.2         2.0\n",
      "3   GT86  2017  18998       Manual    14736   Petrol  150  36.2         2.0\n",
      "4   GT86  2017  17498       Manual    36284   Petrol  145  36.2         2.0\n",
      "     model  year  price transmission  mileage fuelType  tax   mpg  engineSize\n",
      "0   Fiesta  2017  12000    Automatic    15944   Petrol  150  57.7         1.0\n",
      "1    Focus  2018  14000       Manual     9083   Petrol  150  57.7         1.0\n",
      "2    Focus  2017  13000       Manual    12456   Petrol  150  57.7         1.0\n",
      "3   Fiesta  2019  17500       Manual    10460   Petrol  145  40.3         1.5\n",
      "4   Fiesta  2019  16500    Automatic     1482   Petrol  145  48.7         1.0\n",
      "       model  year  price transmission  mileage fuelType  tax   mpg  \\\n",
      "0        SLK  2005   5200    Automatic    63000   Petrol  325  32.1   \n",
      "1    S Class  2017  34948    Automatic    27000   Hybrid   20  61.4   \n",
      "2   SL CLASS  2016  49948    Automatic     6200   Petrol  555  28.0   \n",
      "3    G Class  2016  61948    Automatic    16000   Petrol  325  30.4   \n",
      "4    G Class  2016  73948    Automatic     4000   Petrol  325  30.1   \n",
      "\n",
      "   engineSize  \n",
      "0         1.8  \n",
      "1         2.1  \n",
      "2         5.5  \n",
      "3         4.0  \n",
      "4         4.0  \n"
     ]
    }
   ],
   "source": [
    "# peek at cars 1 datasets\n",
    "df_audi = pd.read_csv(cars_1_files[0])\n",
    "print(df_audi.head())\n",
    "\n",
    "df_bmw = pd.read_csv(cars_1_files[1])\n",
    "print(df_bmw.head())\n",
    "\n",
    "df_ford = pd.read_csv(cars_1_files[2])\n",
    "print(df_ford.head())\n",
    "\n",
    "df_hyundi = pd.read_csv(cars_1_files[3])\n",
    "print(df_hyundi.head())\n",
    "\n",
    "df_merc = pd.read_csv(cars_1_files[4])\n",
    "print(df_merc.head())\n",
    "\n",
    "df_toyota = pd.read_csv(cars_1_files[5])\n",
    "print(df_toyota.head())"
   ],
   "metadata": {
    "collapsed": false,
    "pycharm": {
     "name": "#%%\n"
    }
   }
  },
  {
   "cell_type": "code",
   "execution_count": 51,
   "outputs": [],
   "source": [
    "# add column for brand of car\n",
    "df_audi['brand']   = 'audi'\n",
    "df_bmw['brand']    = 'bmw'\n",
    "df_ford['brand']   = 'ford'\n",
    "df_hyundi['brand'] = 'hyundi'\n",
    "df_merc['brand']   = 'merc'\n",
    "df_toyota['brand'] = 'toyota'\n",
    "\n",
    "# concatenate all dataframes together\n",
    "df_cars_1 = pd.concat([df_audi, df_bmw, df_ford, df_hyundi, df_merc, df_toyota])\n",
    "\n",
    "# change column order to something that allows us to split it easier later on\n",
    "df_cars_1 = df_cars_1[['brand', 'model', 'transmission', 'fuelType','year', 'mileage', 'tax', 'mpg', 'engineSize', 'price']]\n",
    "cars_1_y = df_cars_1.pop('price').to_numpy()\n",
    "cars_1_X = df_cars_1.to_numpy()\n"
   ],
   "metadata": {
    "collapsed": false,
    "pycharm": {
     "name": "#%%\n"
    }
   }
  },
  {
   "cell_type": "code",
   "execution_count": 58,
   "outputs": [
    {
     "name": "stdout",
     "output_type": "stream",
     "text": [
      "(64131, 154)\n",
      "[[1.0 0.0 0.0 ... 125 57.6 2.0]\n",
      " [1.0 0.0 0.0 ... 145 42.8 2.0]\n",
      " [1.0 0.0 0.0 ... 160 51.4 3.0]\n",
      " ...\n",
      " [1.0 0.0 0.0 ... 145 52.3 1.5]\n",
      " [1.0 0.0 0.0 ... 30 62.8 2.0]\n",
      " [1.0 0.0 0.0 ... 20 68.9 2.0]]\n"
     ]
    }
   ],
   "source": [
    "# temporarily separate categorical cols from numerical\n",
    "num_cols = cars_1_X[:,4:]\n",
    "cat_cols = cars_1_X[:, :4]\n",
    "\n",
    "# One-Hot Encode string values\n",
    "enc = OneHotEncoder(sparse=False)\n",
    "cat_cols_enc = enc.fit_transform(cat_cols)\n",
    "\n",
    "cars_1_X_enc = np.hstack((cat_cols_enc, num_cols))\n",
    "print(cars_1_X_enc.shape)\n",
    "print(cars_1_X_enc[:10])\n"
   ],
   "metadata": {
    "collapsed": false,
    "pycharm": {
     "name": "#%%\n"
    }
   }
  },
  {
   "cell_type": "code",
   "execution_count": null,
   "outputs": [],
   "source": [],
   "metadata": {
    "collapsed": false,
    "pycharm": {
     "name": "#%%\n"
    }
   }
  }
 ],
 "metadata": {
  "kernelspec": {
   "display_name": "Python 3",
   "language": "python",
   "name": "python3"
  },
  "language_info": {
   "codemirror_mode": {
    "name": "ipython",
    "version": 2
   },
   "file_extension": ".py",
   "mimetype": "text/x-python",
   "name": "python",
   "nbconvert_exporter": "python",
   "pygments_lexer": "ipython2",
   "version": "2.7.6"
  }
 },
 "nbformat": 4,
 "nbformat_minor": 0
}